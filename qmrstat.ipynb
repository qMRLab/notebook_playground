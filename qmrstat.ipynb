{
 "cells": [
  {
   "cell_type": "code",
   "execution_count": 9,
   "metadata": {
    "extensions": {
     "jupyter_dashboards": {
      "version": 1,
      "views": {
       "grid_default": {},
       "report_default": {}
      }
     }
    },
    "run_control": {
     "marked": true
    }
   },
   "outputs": [],
   "source": [
    "import scipy.io\n",
    "from scipy.io import loadmat\n",
    "import numpy as np\n",
    "\n",
    "mat = loadmat('kk.mat', struct_as_record=False)\n",
    "hah = mat['kk']\n",
    "\n",
    "X1 = np.squeeze(np.array(hah[0,0].Pearson[0,0].PyVis[0,0].CILine1[0,0].X))\n",
    "Y1 = np.squeeze(np.array(hah[0,0].Pearson[0,0].PyVis[0,0].CILine1[0,0].Y))\n",
    "\n",
    "X2 = np.squeeze(np.array(hah[0,0].Pearson[0,0].PyVis[0,0].CILine2[0,0].X))\n",
    "Y2 = np.squeeze(np.array(hah[0,0].Pearson[0,0].PyVis[0,0].CILine2[0,0].Y))\n",
    "\n",
    "XF = np.squeeze(np.array(hah[0,0].Pearson[0,0].PyVis[0,0].FitLine[0,0].X))\n",
    "YF = np.squeeze(np.array(hah[0,0].Pearson[0,0].PyVis[0,0].FitLine[0,0].Y))\n",
    "\n",
    "Xpts = np.squeeze(np.array(hah[0,0].Pearson[0,0].PyVis[0,0].XData))\n",
    "Ypts = np.squeeze(np.array(hah[0,0].Pearson[0,0].PyVis[0,0].YData))\n",
    "\n",
    "fcolor = str(np.squeeze(np.array(hah[0,0].Pearson[0,0].PyVis[0,0].fillColor)))\n",
    "xlabel = str(np.array(hah[0,0].Pearson[0,0].PyVis[0,0].XLabel))\n",
    "ylabel = str(np.squeeze(np.array(hah[0,0].Pearson[0,0].PyVis[0,0].YLabel)))\n",
    "\n",
    "\n"
   ]
  },
  {
   "cell_type": "code",
   "execution_count": 13,
   "metadata": {
    "extensions": {
     "jupyter_dashboards": {
      "version": 1,
      "views": {
       "grid_default": {},
       "report_default": {}
      }
     }
    }
   },
   "outputs": [
    {
     "data": {
      "text/html": [
       "<script>requirejs.config({paths: { 'plotly': ['https://cdn.plot.ly/plotly-latest.min']},});if(!window.Plotly) {{require(['plotly'],function(plotly) {window.Plotly=plotly;});}}</script>"
      ],
      "text/vnd.plotly.v1+html": [
       "<script>requirejs.config({paths: { 'plotly': ['https://cdn.plot.ly/plotly-latest.min']},});if(!window.Plotly) {{require(['plotly'],function(plotly) {window.Plotly=plotly;});}}</script>"
      ]
     },
     "metadata": {},
     "output_type": "display_data"
    },
    {
     "data": {
      "application/vnd.jupyter.widget-view+json": {
       "model_id": "3d4b595cc6e543fba1525c9923e1ae11",
       "version_major": 2,
       "version_minor": 0
      },
      "text/plain": [
       "FigureWidget({\n",
       "    'data': [{'line': {'color': 'rgb(0,255,0)'},\n",
       "              'mode': 'lines',\n",
       "              '…"
      ]
     },
     "metadata": {},
     "output_type": "display_data"
    }
   ],
   "source": [
    "from plotly import __version__\n",
    "from plotly.offline import download_plotlyjs, init_notebook_mode, plot, iplot\n",
    "import plotly.graph_objs as go\n",
    "\n",
    "init_notebook_mode(connected=True)\n",
    "\n",
    "trace0 = go.Scatter(\n",
    "    x=X1,\n",
    "    y=Y1,\n",
    "    fill= None,\n",
    "    mode='lines',\n",
    "    line=dict(\n",
    "        color=fcolor,\n",
    "    )\n",
    ")\n",
    "trace1 = go.Scatter(\n",
    "    x=X2,\n",
    "    y=Y2,\n",
    "    fill='tonexty',\n",
    "    mode='lines',\n",
    "    line=dict(\n",
    "        color=fcolor,\n",
    "    )\n",
    ")\n",
    "\n",
    "trace2 = go.Scatter(\n",
    "    x=XF,\n",
    "    y=YF,\n",
    "    mode='lines',\n",
    "    fill= None,\n",
    "    line=dict(\n",
    "        color='rgb(143,19,131)',\n",
    "    )\n",
    ")\n",
    "\n",
    "trace3 = go.Scatter(\n",
    "    x=Xpts,\n",
    "    y=Ypts,\n",
    "    mode='markers',\n",
    "    line=dict(\n",
    "         color='rgb(143, 19, 131)',\n",
    "    )\n",
    ")\n",
    "\n",
    "data = [trace0, trace1, trace2, trace3]\n",
    "\n",
    "layout = go.Layout(\n",
    "    width=990,\n",
    "    height=600,\n",
    "    showlegend=False, title =  'Please select a method (from the buttons on the left) to start interactive display.')\n",
    "\n",
    "layout.xaxis.title = xlabel\n",
    "layout.yaxis.title = ylabel\n",
    "trace3.marker.size = 13\n",
    "trace3.marker.gradient.color = 'rgb(255,0,0)'\n",
    "trace3.marker.gradient.type = 'radial'\n",
    "trace3.marker.opacity = 0.8\n",
    "trace3.text = 'aa'\n",
    "trace3.textposition = 'bottom right'\n",
    "\n",
    "f2 = go.FigureWidget(data,layout)\n",
    "f2.layout.hovermode = 'closest'\n",
    "\n",
    "def foo(trace, points, selector):\n",
    "    trace.x = np.delete(trace.x,[points.point_inds])\n",
    "    trace.y = np.delete(trace.y,[points.point_inds])\n",
    "\n",
    "scat = f2.data[3]\n",
    "\n",
    "scat.on_click(foo)\n",
    "\n",
    "f2"
   ]
  }
 ],
 "metadata": {
  "extensions": {
   "jupyter_dashboards": {
    "activeView": "grid_default",
    "version": 1,
    "views": {
     "grid_default": {
      "cellMargin": 10,
      "defaultCellHeight": 20,
      "maxColumns": 12,
      "name": "grid",
      "type": "grid"
     },
     "report_default": {
      "name": "report",
      "type": "report"
     }
    }
   }
  },
  "kernelspec": {
   "display_name": "Python 3",
   "language": "python",
   "name": "python3"
  },
  "language_info": {
   "codemirror_mode": {
    "name": "ipython",
    "version": 3
   },
   "file_extension": ".py",
   "mimetype": "text/x-python",
   "name": "python",
   "nbconvert_exporter": "python",
   "pygments_lexer": "ipython3",
   "version": "3.7.0"
  },
  "toc": {
   "nav_menu": {},
   "number_sections": true,
   "sideBar": true,
   "skip_h1_title": false,
   "toc_cell": false,
   "toc_position": {},
   "toc_section_display": "block",
   "toc_window_display": false
  }
 },
 "nbformat": 4,
 "nbformat_minor": 2
}
